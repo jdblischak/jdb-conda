{
 "cells": [
  {
   "cell_type": "markdown",
   "metadata": {},
   "source": [
    "\n",
    "# Update recipes\n",
    "\n",
    "Below are some ad-hoc code chunks to assist me in mass-updating conda-forge R recipes"
   ]
  },
  {
   "cell_type": "code",
   "execution_count": 1,
   "metadata": {},
   "outputs": [],
   "source": [
    "import os\n",
    "import sys\n",
    "import time"
   ]
  },
  {
   "cell_type": "code",
   "execution_count": 2,
   "metadata": {},
   "outputs": [
    {
     "name": "stdout",
     "output_type": "stream",
     "text": [
      "Authenticated as jdblischak\n"
     ]
    }
   ],
   "source": [
    "# Authenticate with GitHub\n",
    "\n",
    "import github\n",
    "\n",
    "gh_token = os.environ['GH_TOKEN']\n",
    "gh = github.Github(gh_token)\n",
    "gh_me = gh.get_user()\n",
    "print(\"Authenticated as %s\"%(gh_me.login))"
   ]
  },
  {
   "cell_type": "code",
   "execution_count": 3,
   "metadata": {},
   "outputs": [
    {
     "data": {
      "text/plain": [
       "RateLimit(core=Rate(reset=2022-01-02 21:07:42, remaining=4999, limit=5000))"
      ]
     },
     "execution_count": 3,
     "metadata": {},
     "output_type": "execute_result"
    }
   ],
   "source": [
    "# Check rate limit\n",
    "gh.get_rate_limit()"
   ]
  },
  {
   "cell_type": "code",
   "execution_count": 5,
   "metadata": {},
   "outputs": [
    {
     "data": {
      "text/plain": [
       "6"
      ]
     },
     "execution_count": 5,
     "metadata": {},
     "output_type": "execute_result"
    }
   ],
   "source": [
    "# Search\n",
    "# https://pygithub.readthedocs.io/en/latest/github.html?highlight=search#github.MainClass.Github.search_code\n",
    "results = gh.search_code(query=\"org:conda-forge jdblischak language:YAML 0-only\")\n",
    "results.totalCount"
   ]
  },
  {
   "cell_type": "code",
   "execution_count": 6,
   "metadata": {},
   "outputs": [],
   "source": [
    "# Repositories to keep\n",
    "skip = ['r-feedstock',\n",
    "        'r-base-feedstock',\n",
    "        'r-git2r-feedstock',\n",
    "        'r-knitr-feedstock',\n",
    "        'r-rmarkdown-feedstock',\n",
    "        'r-workflowr-feedstock', 'r-reshape-feedstock']"
   ]
  },
  {
   "cell_type": "code",
   "execution_count": 7,
   "metadata": {},
   "outputs": [
    {
     "name": "stdout",
     "output_type": "stream",
     "text": [
      "5\n"
     ]
    }
   ],
   "source": [
    "# Convert search results to dict of repository objects\n",
    "dict_repo = {}\n",
    "for r in results:\n",
    "    repo = r.repository\n",
    "    name_repo = os.path.basename(repo.full_name)\n",
    "    if name_repo in skip:\n",
    "        continue\n",
    "    if name_repo[:2] != \"r-\":\n",
    "        continue\n",
    "    dict_repo[name_repo] = repo\n",
    "print(len(dict_repo))"
   ]
  },
  {
   "cell_type": "code",
   "execution_count": 8,
   "metadata": {},
   "outputs": [],
   "source": [
    "# Save list of packages to generate with helper script\n",
    "dir_helper = \"../../conda_r_skeleton_helper\"\n",
    "if not os.path.exists(dir_helper):\n",
    "    sys.stderr.write(\"Need to clone helper repo\")\n",
    "    sys.exit(1)\n",
    "file_packages = dir_helper + \"/packages.txt\"\n",
    "handle_packages = open(file_packages, \"w\")\n",
    "for name_temp in dict_repo.keys():\n",
    "    handle_packages.write(name_temp[:-10] + \"\\n\")\n",
    "handle_packages.close()"
   ]
  },
  {
   "cell_type": "code",
   "execution_count": 9,
   "metadata": {},
   "outputs": [
    {
     "name": "stdout",
     "output_type": "stream",
     "text": [
      "5 ../../conda_r_skeleton_helper/packages.txt\n"
     ]
    }
   ],
   "source": [
    "%%bash -s {file_packages}\n",
    "\n",
    "wc -l $1"
   ]
  },
  {
   "cell_type": "code",
   "execution_count": 10,
   "metadata": {},
   "outputs": [
    {
     "name": "stdout",
     "output_type": "stream",
     "text": [
      "conda-forge/r-pack-feedstock\n",
      "conda-forge/r-parmigene-feedstock\n",
      "conda-forge/r-sparql-feedstock\n",
      "conda-forge/r-prroc-feedstock\n",
      "conda-forge/r-tcltk2-feedstock\n"
     ]
    }
   ],
   "source": [
    "# Fork repositories\n",
    "for repo in dict_repo.values():\n",
    "    print(repo.full_name)\n",
    "    gh_me.create_fork(repo)"
   ]
  },
  {
   "cell_type": "code",
   "execution_count": 13,
   "metadata": {},
   "outputs": [
    {
     "name": "stdout",
     "output_type": "stream",
     "text": [
      "r-pack\n",
      "r-parmigene\n",
      "r-sparql\n",
      "r-prroc\n",
      "r-tcltk2\n"
     ]
    }
   ],
   "source": [
    "%%bash -s {file_packages}\n",
    "\n",
    "# Clone repositories\n",
    "\n",
    "for pkg in `cat $1`\n",
    "do\n",
    "  echo $pkg\n",
    "  localdir=\"/tmp/${pkg}-feedstock\"\n",
    "  if [ ! -d \"$localdir\" ]\n",
    "  then\n",
    "    git clone --quiet git@github.com:jdblischak/${pkg}-feedstock.git \"$localdir\"\n",
    "  fi\n",
    "done"
   ]
  },
  {
   "cell_type": "code",
   "execution_count": 14,
   "metadata": {},
   "outputs": [
    {
     "name": "stdout",
     "output_type": "stream",
     "text": [
      "Processing r-pack\n",
      "Adding in variants from internal_defaults\n",
      "Parsing input package r-pack:\n",
      ".. name: pack location: None new_location: /home/jdblischak/repos/conda_r_skeleton_helper/r-pack\n",
      "Making/refreshing recipe for pack\n",
      "Fetching main index from https://cran.r-project.org\n",
      "Downloading source from https://cran.r-project.org/src/contrib/pack_0.1-1.tar.gz\n",
      "Reading package metadata from /home/jdblischak/miniconda3/conda-bld/src_cache/source-pack_0.1-1_278fe6ebf8.tar.gz\n",
      "Writing recipe for pack\n",
      "--dirty flag and --keep-old-work not specified. Removing build/test folder after successful build/test.\n",
      "\n",
      "Processing r-parmigene\n",
      "Adding in variants from internal_defaults\n",
      "Parsing input package r-parmigene:\n",
      ".. name: parmigene location: None new_location: /home/jdblischak/repos/conda_r_skeleton_helper/r-parmigene\n",
      "Making/refreshing recipe for parmigene\n",
      "Fetching main index from https://cran.r-project.org\n",
      "Downloading source from https://cran.r-project.org/src/contrib/parmigene_1.1.0.tar.gz\n",
      "Reading package metadata from /home/jdblischak/miniconda3/conda-bld/src_cache/source-parmigene_1.1.0_44db54941d.tar.gz\n",
      "Writing recipe for parmigene\n",
      "--dirty flag and --keep-old-work not specified. Removing build/test folder after successful build/test.\n",
      "\n",
      "Processing r-sparql\n",
      "Adding in variants from internal_defaults\n",
      "Parsing input package r-sparql:\n",
      ".. name: sparql location: None new_location: /home/jdblischak/repos/conda_r_skeleton_helper/r-sparql\n",
      "Making/refreshing recipe for sparql\n",
      "Fetching main index from https://cran.r-project.org\n",
      "Downloading source from https://cran.r-project.org/src/contrib/SPARQL_1.16.tar.gz\n",
      "Reading package metadata from /home/jdblischak/miniconda3/conda-bld/src_cache/source-SPARQL_1.16_2cb366b2b9.tar.gz\n",
      "Writing recipe for sparql\n",
      "--dirty flag and --keep-old-work not specified. Removing build/test folder after successful build/test.\n",
      "\n",
      "Processing r-prroc\n",
      "Adding in variants from internal_defaults\n",
      "Parsing input package r-prroc:\n",
      ".. name: prroc location: None new_location: /home/jdblischak/repos/conda_r_skeleton_helper/r-prroc\n",
      "Making/refreshing recipe for prroc\n",
      "Fetching main index from https://cran.r-project.org\n",
      "Downloading source from https://cran.r-project.org/src/contrib/PRROC_1.3.1.tar.gz\n",
      "Reading package metadata from /home/jdblischak/miniconda3/conda-bld/src_cache/source-PRROC_1.3.1_479118ce47.tar.gz\n",
      "Writing recipe for prroc\n",
      "--dirty flag and --keep-old-work not specified. Removing build/test folder after successful build/test.\n",
      "\n",
      "Processing r-tcltk2\n",
      "Adding in variants from internal_defaults\n",
      "Parsing input package r-tcltk2:\n",
      ".. name: tcltk2 location: None new_location: /home/jdblischak/repos/conda_r_skeleton_helper/r-tcltk2\n",
      "Making/refreshing recipe for tcltk2\n",
      "Fetching main index from https://cran.r-project.org\n",
      "Downloading source from https://cran.r-project.org/src/contrib/tcltk2_1.2-11.tar.gz\n",
      "Reading package metadata from /home/jdblischak/miniconda3/conda-bld/src_cache/source-tcltk2_1.2-11_ad183ae3b7.tar.gz\n",
      "Writing recipe for tcltk2\n",
      "--dirty flag and --keep-old-work not specified. Removing build/test folder after successful build/test.\n",
      "\n"
     ]
    },
    {
     "name": "stderr",
     "output_type": "stream",
     "text": [
      "INFO:conda_build.variants:Adding in variants from internal_defaults\n",
      "/home/jdblischak/miniconda3/lib/python3.9/site-packages/urllib3/connectionpool.py:1013: InsecureRequestWarning: Unverified HTTPS request is being made to host 'cran.r-project.org'. Adding certificate verification is strongly advised. See: https://urllib3.readthedocs.io/en/1.26.x/advanced-usage.html#ssl-warnings\n",
      "  warnings.warn(\n",
      "/home/jdblischak/miniconda3/lib/python3.9/site-packages/urllib3/connectionpool.py:1013: InsecureRequestWarning: Unverified HTTPS request is being made to host 'cran.r-project.org'. Adding certificate verification is strongly advised. See: https://urllib3.readthedocs.io/en/1.26.x/advanced-usage.html#ssl-warnings\n",
      "  warnings.warn(\n",
      "No hash (md5, sha1, sha256) provided for source-pack_0.1-1.tar.gz.  Source download forced.  Add hash to recipe to use source cache.\n",
      "WARNING:conda_build.source:No hash (md5, sha1, sha256) provided for source-pack_0.1-1.tar.gz.  Source download forced.  Add hash to recipe to use source cache.\n",
      "INFO:conda_build.config:--dirty flag and --keep-old-work not specified. Removing build/test folder after successful build/test.\n",
      "\n",
      "Warning: GPL-3 license not valid. See https://conda-forge.org/docs/maintainer/adding_pkgs.html#spdx-identifiers-and-expressions\n",
      "INFO:conda_build.variants:Adding in variants from internal_defaults\n",
      "/home/jdblischak/miniconda3/lib/python3.9/site-packages/urllib3/connectionpool.py:1013: InsecureRequestWarning: Unverified HTTPS request is being made to host 'cran.r-project.org'. Adding certificate verification is strongly advised. See: https://urllib3.readthedocs.io/en/1.26.x/advanced-usage.html#ssl-warnings\n",
      "  warnings.warn(\n",
      "/home/jdblischak/miniconda3/lib/python3.9/site-packages/urllib3/connectionpool.py:1013: InsecureRequestWarning: Unverified HTTPS request is being made to host 'cran.r-project.org'. Adding certificate verification is strongly advised. See: https://urllib3.readthedocs.io/en/1.26.x/advanced-usage.html#ssl-warnings\n",
      "  warnings.warn(\n",
      "No hash (md5, sha1, sha256) provided for source-parmigene_1.1.0.tar.gz.  Source download forced.  Add hash to recipe to use source cache.\n",
      "WARNING:conda_build.source:No hash (md5, sha1, sha256) provided for source-parmigene_1.1.0.tar.gz.  Source download forced.  Add hash to recipe to use source cache.\n",
      "INFO:conda_build.config:--dirty flag and --keep-old-work not specified. Removing build/test folder after successful build/test.\n",
      "\n",
      "Warning: AGPL-3 license not valid. See https://conda-forge.org/docs/maintainer/adding_pkgs.html#spdx-identifiers-and-expressions\n",
      "INFO:conda_build.variants:Adding in variants from internal_defaults\n",
      "/home/jdblischak/miniconda3/lib/python3.9/site-packages/urllib3/connectionpool.py:1013: InsecureRequestWarning: Unverified HTTPS request is being made to host 'cran.r-project.org'. Adding certificate verification is strongly advised. See: https://urllib3.readthedocs.io/en/1.26.x/advanced-usage.html#ssl-warnings\n",
      "  warnings.warn(\n",
      "/home/jdblischak/miniconda3/lib/python3.9/site-packages/urllib3/connectionpool.py:1013: InsecureRequestWarning: Unverified HTTPS request is being made to host 'cran.r-project.org'. Adding certificate verification is strongly advised. See: https://urllib3.readthedocs.io/en/1.26.x/advanced-usage.html#ssl-warnings\n",
      "  warnings.warn(\n",
      "No hash (md5, sha1, sha256) provided for source-SPARQL_1.16.tar.gz.  Source download forced.  Add hash to recipe to use source cache.\n",
      "WARNING:conda_build.source:No hash (md5, sha1, sha256) provided for source-SPARQL_1.16.tar.gz.  Source download forced.  Add hash to recipe to use source cache.\n",
      "INFO:conda_build.config:--dirty flag and --keep-old-work not specified. Removing build/test folder after successful build/test.\n",
      "\n",
      "Warning: GPL-3 license not valid. See https://conda-forge.org/docs/maintainer/adding_pkgs.html#spdx-identifiers-and-expressions\n",
      "INFO:conda_build.variants:Adding in variants from internal_defaults\n",
      "/home/jdblischak/miniconda3/lib/python3.9/site-packages/urllib3/connectionpool.py:1013: InsecureRequestWarning: Unverified HTTPS request is being made to host 'cran.r-project.org'. Adding certificate verification is strongly advised. See: https://urllib3.readthedocs.io/en/1.26.x/advanced-usage.html#ssl-warnings\n",
      "  warnings.warn(\n",
      "/home/jdblischak/miniconda3/lib/python3.9/site-packages/urllib3/connectionpool.py:1013: InsecureRequestWarning: Unverified HTTPS request is being made to host 'cran.r-project.org'. Adding certificate verification is strongly advised. See: https://urllib3.readthedocs.io/en/1.26.x/advanced-usage.html#ssl-warnings\n",
      "  warnings.warn(\n",
      "No hash (md5, sha1, sha256) provided for source-PRROC_1.3.1.tar.gz.  Source download forced.  Add hash to recipe to use source cache.\n",
      "WARNING:conda_build.source:No hash (md5, sha1, sha256) provided for source-PRROC_1.3.1.tar.gz.  Source download forced.  Add hash to recipe to use source cache.\n",
      "INFO:conda_build.config:--dirty flag and --keep-old-work not specified. Removing build/test folder after successful build/test.\n",
      "\n",
      "Warning: GPL-3 license not valid. See https://conda-forge.org/docs/maintainer/adding_pkgs.html#spdx-identifiers-and-expressions\n",
      "INFO:conda_build.variants:Adding in variants from internal_defaults\n",
      "/home/jdblischak/miniconda3/lib/python3.9/site-packages/urllib3/connectionpool.py:1013: InsecureRequestWarning: Unverified HTTPS request is being made to host 'cran.r-project.org'. Adding certificate verification is strongly advised. See: https://urllib3.readthedocs.io/en/1.26.x/advanced-usage.html#ssl-warnings\n",
      "  warnings.warn(\n",
      "/home/jdblischak/miniconda3/lib/python3.9/site-packages/urllib3/connectionpool.py:1013: InsecureRequestWarning: Unverified HTTPS request is being made to host 'cran.r-project.org'. Adding certificate verification is strongly advised. See: https://urllib3.readthedocs.io/en/1.26.x/advanced-usage.html#ssl-warnings\n",
      "  warnings.warn(\n",
      "No hash (md5, sha1, sha256) provided for source-tcltk2_1.2-11.tar.gz.  Source download forced.  Add hash to recipe to use source cache.\n",
      "WARNING:conda_build.source:No hash (md5, sha1, sha256) provided for source-tcltk2_1.2-11.tar.gz.  Source download forced.  Add hash to recipe to use source cache.\n",
      "INFO:conda_build.config:--dirty flag and --keep-old-work not specified. Removing build/test folder after successful build/test.\n",
      "\n",
      "Warning: LGPL-3 license not valid. See https://conda-forge.org/docs/maintainer/adding_pkgs.html#spdx-identifiers-and-expressions\n"
     ]
    }
   ],
   "source": [
    "%%bash -s {dir_helper}\n",
    "\n",
    "# Generate new recipes\n",
    "\n",
    "# Had to manually set `--allow-archived` flag to regenerate old recipes for\n",
    "# archived packages\n",
    "\n",
    "cd \"$1\"\n",
    "Rscript run.R"
   ]
  },
  {
   "cell_type": "code",
   "execution_count": 15,
   "metadata": {},
   "outputs": [],
   "source": [
    "# Get maintainers to add back\n",
    "\n",
    "dict_maintainers = {}\n",
    "\n",
    "conda_forge_r = {\n",
    "    \"conda-forge/r\",\n",
    "    \"johanneskoester\",\n",
    "    \"bgruening\",\n",
    "    \"daler\",\n",
    "    \"jdblischak\",\n",
    "    \"cbrueffer\",\n",
    "    \"dbast\",\n",
    "    \"dpryan79\",\n",
    "    # typo from r-diffr-feedstock'\n",
    "    \"Johanneskoester\",\n",
    "    \"Bgruening\",\n",
    "    \"Daler\",\n",
    "    \"Jdblischak\",\n",
    "    \"Cbrueffer\",\n",
    "    \"Dbast\",\n",
    "    \"Dpryan79\"\n",
    "}\n",
    "\n",
    "for name_temp in dict_repo.keys():\n",
    "    file_codeowners = \"/tmp/\" + name_temp + \"/.github/CODEOWNERS\"\n",
    "    handle_codeowners = open(file_codeowners, \"r\")\n",
    "    codeowners = handle_codeowners.readlines()\n",
    "    handle_codeowners.close()\n",
    "    codeowners = codeowners[0][2:].replace(\"@\", \"\").split(\" \")\n",
    "    maintainers = set(codeowners).difference(conda_forge_r)\n",
    "    dict_maintainers[name_temp] = maintainers"
   ]
  },
  {
   "cell_type": "code",
   "execution_count": 16,
   "metadata": {},
   "outputs": [],
   "source": [
    "# Increment original build numbers\n",
    "\n",
    "dict_builds = {}\n",
    "\n",
    "for name_temp in dict_repo.keys():\n",
    "    file_meta = \"/tmp/\" + name_temp + \"/recipe/meta.yaml\"\n",
    "    handle_meta = open(file_meta, \"r\")\n",
    "    for line in handle_meta:\n",
    "        if line.strip()[:6] == \"number\":\n",
    "            license_field = int(line.strip().split(\" \")[1])\n",
    "            build_num = build_num + 1\n",
    "            dict_builds[name_temp] = build_num\n",
    "    handle_meta.close()"
   ]
  },
  {
   "cell_type": "code",
   "execution_count": 17,
   "metadata": {},
   "outputs": [
    {
     "data": {
      "text/plain": [
       "{'r-pack-feedstock': 1003,\n",
       " 'r-parmigene-feedstock': 1,\n",
       " 'r-sparql-feedstock': 1004,\n",
       " 'r-prroc-feedstock': 1003,\n",
       " 'r-tcltk2-feedstock': 1003}"
      ]
     },
     "execution_count": 17,
     "metadata": {},
     "output_type": "execute_result"
    }
   ],
   "source": [
    "dict_builds"
   ]
  },
  {
   "cell_type": "code",
   "execution_count": 18,
   "metadata": {},
   "outputs": [
    {
     "data": {
      "text/plain": [
       "{'r-pack-feedstock': 'GPL-3.0-only',\n",
       " 'r-parmigene-feedstock': 'AGPL-3.0-only',\n",
       " 'r-sparql-feedstock': 'GPL-3.0-only',\n",
       " 'r-prroc-feedstock': 'GPL-3.0-only',\n",
       " 'r-tcltk2-feedstock': 'LGPL-3.0-only'}"
      ]
     },
     "execution_count": 18,
     "metadata": {},
     "output_type": "execute_result"
    }
   ],
   "source": [
    "# Obtain original license field\n",
    "\n",
    "dict_licenses = {}\n",
    "\n",
    "for name_temp in dict_repo.keys():\n",
    "    file_meta = \"/tmp/\" + name_temp + \"/recipe/meta.yaml\"\n",
    "    handle_meta = open(file_meta, \"r\")\n",
    "    for line in handle_meta:\n",
    "        if line.strip()[:8] == \"license:\":\n",
    "            license_field = line.strip().split(\" \")[1]\n",
    "            dict_licenses[name_temp] = license_field\n",
    "    handle_meta.close()\n",
    "dict_licenses"
   ]
  },
  {
   "cell_type": "code",
   "execution_count": 19,
   "metadata": {},
   "outputs": [
    {
     "name": "stdout",
     "output_type": "stream",
     "text": [
      "r-pack\n",
      "r-parmigene\n",
      "r-sparql\n",
      "r-prroc\n",
      "r-tcltk2\n"
     ]
    }
   ],
   "source": [
    "%%bash -s {dir_helper}\n",
    "\n",
    "# Copy updated recipes to cloned repositories\n",
    "\n",
    "pkgs=\"$1/packages.txt\"\n",
    "for pkg in `cat $pkgs`\n",
    "do\n",
    "  echo $pkg\n",
    "  localdir=\"/tmp/${pkg}-feedstock\"\n",
    "  # For some reason globbing doesn't work when run from within the notebook\n",
    "  cp \"$1/$pkg/meta.yaml\" \"$localdir/recipe/\"\n",
    "  cp \"$1/$pkg/build.sh\" \"$localdir/recipe/\"\n",
    "  cp \"$1/$pkg/bld.bat\" \"$localdir/recipe/\"\n",
    "done"
   ]
  },
  {
   "cell_type": "code",
   "execution_count": 20,
   "metadata": {},
   "outputs": [
    {
     "name": "stdout",
     "output_type": "stream",
     "text": [
      "r-pack-feedstock\n",
      "r-parmigene-feedstock\n",
      "r-sparql-feedstock\n",
      "r-prroc-feedstock\n",
      "r-tcltk2-feedstock\n"
     ]
    }
   ],
   "source": [
    "# Add back maintainers, bump version number, and fix license\n",
    "\n",
    "for feedstock in dict_maintainers.keys():\n",
    "    maintainers = dict_maintainers[feedstock]\n",
    "    print(feedstock)\n",
    "    file_meta = \"/tmp/\" + feedstock + \"/recipe/meta.yaml\"\n",
    "    handle_meta = open(file_meta, \"r\")\n",
    "    meta = handle_meta.readlines()\n",
    "    handle_meta.close()\n",
    "    maintainers_formatted = [\"    - \" + id + \"\\n\" for id in maintainers]\n",
    "    lines_out = meta\n",
    "    for i in range(len(meta)):\n",
    "        line = meta[i]\n",
    "        if line.rstrip() == \"    - conda-forge/r\" and (len(maintainers)) != 0:\n",
    "            lines_out = meta[:i+1] + maintainers_formatted + meta[i+1:]\n",
    "    for i in range(len(lines_out)):\n",
    "        line = lines_out[i]\n",
    "        if line.rstrip() == \"  number: 0\":\n",
    "            lines_out[i] = \"  number: %d\\n\"%(dict_builds[feedstock])\n",
    "    for i in range(len(lines_out)):\n",
    "        line = lines_out[i]\n",
    "        if line[:10] == \"  license:\":\n",
    "            lines_out[i] = \"  license: %s\\n\"%(dict_licenses[feedstock])\n",
    "    handle_meta = open(file_meta, \"w\")\n",
    "    handle_meta.write(\"\".join(lines_out))\n",
    "    handle_meta.close()"
   ]
  },
  {
   "cell_type": "code",
   "execution_count": 21,
   "metadata": {},
   "outputs": [
    {
     "name": "stdout",
     "output_type": "stream",
     "text": [
      "r-pack\n",
      "[update-recipe 0ed6508] Update recipe\n",
      " 3 files changed, 29 insertions(+), 28 deletions(-)\n",
      " rewrite recipe/build.sh (97%)\n",
      "r-parmigene\n",
      "[update-recipe 7dd203e] Update recipe\n",
      " 3 files changed, 32 insertions(+), 27 deletions(-)\n",
      "r-sparql\n",
      "[update-recipe 39c0d56] Update recipe\n",
      " 3 files changed, 30 insertions(+), 29 deletions(-)\n",
      "r-prroc\n",
      "[update-recipe 5bb3f1f] Update recipe\n",
      " 3 files changed, 37 insertions(+), 31 deletions(-)\n",
      " rewrite recipe/build.sh (97%)\n",
      "r-tcltk2\n",
      "[update-recipe 21106eb] Update recipe\n",
      " 3 files changed, 42 insertions(+), 32 deletions(-)\n",
      " rewrite recipe/build.sh (97%)\n"
     ]
    },
    {
     "name": "stderr",
     "output_type": "stream",
     "text": [
      "Switched to a new branch 'update-recipe'\n",
      "Switched to a new branch 'update-recipe'\n",
      "Switched to a new branch 'update-recipe'\n",
      "Switched to a new branch 'update-recipe'\n",
      "Switched to a new branch 'update-recipe'\n"
     ]
    }
   ],
   "source": [
    "%%bash -s {file_packages}\n",
    "\n",
    "# Commit updated recipes to branch \"update-recipe\"\n",
    "\n",
    "for pkg in `cat $1`\n",
    "do\n",
    "  echo $pkg\n",
    "  localdir=\"/tmp/${pkg}-feedstock\"\n",
    "  cd \"$localdir\"\n",
    "  git checkout -b \"update-recipe\"\n",
    "  git add recipe/\n",
    "  git commit -m \"Update recipe\"\n",
    "done"
   ]
  },
  {
   "cell_type": "code",
   "execution_count": 22,
   "metadata": {},
   "outputs": [
    {
     "name": "stdout",
     "output_type": "stream",
     "text": [
      "r-pack\n",
      "Adding in variants from internal_defaults\n",
      "Adding in variants from /tmp/tmp4pio61hs/conda_build_config.yaml\n",
      "Adding in variants from argument_variants\n",
      "[update-recipe d0bc5dc] MNT: Re-rendered with conda-build 3.21.7, conda-smithy 3.16.1, and conda-forge-pinning 2022.01.02.17.59.50\n",
      " 10 files changed, 38 insertions(+), 41 deletions(-)\n",
      " delete mode 100644 .ci_support/migrations/r410.yaml\n",
      "r-parmigene\n",
      "Adding in variants from internal_defaults\n",
      "Adding in variants from /tmp/tmpbq1982gz/conda_build_config.yaml\n",
      "Adding in variants from argument_variants\n",
      "[update-recipe 9d16930] MNT: Re-rendered with conda-build 3.21.7, conda-smithy 3.16.1, and conda-forge-pinning 2022.01.02.17.59.50\n",
      " 17 files changed, 57 insertions(+), 58 deletions(-)\n",
      " delete mode 100644 .ci_support/migrations/r410.yaml\n",
      "r-sparql\n",
      "Adding in variants from internal_defaults\n",
      "Adding in variants from /tmp/tmph2bspr0w/conda_build_config.yaml\n",
      "Adding in variants from argument_variants\n",
      "[update-recipe ee12485] MNT: Re-rendered with conda-build 3.21.7, conda-smithy 3.16.1, and conda-forge-pinning 2022.01.02.17.59.50\n",
      " 10 files changed, 35 insertions(+), 43 deletions(-)\n",
      " delete mode 100644 .ci_support/migrations/r410.yaml\n",
      "r-prroc\n",
      "Adding in variants from internal_defaults\n",
      "Adding in variants from /tmp/tmpcn0j6_80/conda_build_config.yaml\n",
      "Adding in variants from argument_variants\n",
      "[update-recipe 04e3133] MNT: Re-rendered with conda-build 3.21.7, conda-smithy 3.16.1, and conda-forge-pinning 2022.01.02.17.59.50\n",
      " 10 files changed, 38 insertions(+), 41 deletions(-)\n",
      " delete mode 100644 .ci_support/migrations/r410.yaml\n",
      "r-tcltk2\n",
      "Adding in variants from internal_defaults\n",
      "Adding in variants from /tmp/tmpewibbh9a/conda_build_config.yaml\n",
      "Adding in variants from argument_variants\n",
      "[update-recipe 9082e13] MNT: Re-rendered with conda-build 3.21.7, conda-smithy 3.16.1, and conda-forge-pinning 2022.01.02.17.59.50\n",
      " 10 files changed, 40 insertions(+), 43 deletions(-)\n",
      " delete mode 100644 .ci_support/migrations/r410.yaml\n"
     ]
    },
    {
     "name": "stderr",
     "output_type": "stream",
     "text": [
      "INFO:conda_smithy.configure_feedstock:Downloading conda-forge-pinning-2022.01.02.17.59.50\n",
      "INFO:conda_smithy.configure_feedstock:Extracting conda-forge-pinning to /tmp/tmp4pio61hs\n",
      "INFO:conda_smithy.configure_feedstock:r410.yaml is closed now. Removing\n",
      "Setting build platform. This is only useful when pretending to be on another platform, such as for rendering necessary dependencies on a non-native platform. I trust that you know what you're doing.\n",
      "WARNING:conda_build.config:Setting build platform. This is only useful when pretending to be on another platform, such as for rendering necessary dependencies on a non-native platform. I trust that you know what you're doing.\n",
      "Setting build arch. This is only useful when pretending to be on another arch, such as for rendering necessary dependencies on a non-native arch. I trust that you know what you're doing.\n",
      "WARNING:conda_build.config:Setting build arch. This is only useful when pretending to be on another arch, such as for rendering necessary dependencies on a non-native arch. I trust that you know what you're doing.\n",
      "No numpy version specified in conda_build_config.yaml.  Falling back to default numpy value of 1.16\n",
      "WARNING:conda_build.metadata:No numpy version specified in conda_build_config.yaml.  Falling back to default numpy value of 1.16\n",
      "INFO:conda_build.variants:Adding in variants from internal_defaults\n",
      "INFO:conda_build.variants:Adding in variants from /tmp/tmp4pio61hs/conda_build_config.yaml\n",
      "INFO:conda_build.variants:Adding in variants from argument_variants\n",
      "/home/jdblischak/miniconda3/lib/python3.9/site-packages/pkg_resources/__init__.py:116: PkgResourcesDeprecationWarning: 3.9.* *_cpython is an invalid version and will not be supported in a future release\n",
      "  warnings.warn(\n",
      "INFO:conda_smithy.configure_feedstock:Re-rendered with conda-build 3.21.7, conda-smithy 3.16.1, and conda-forge-pinning 2022.01.02.17.59.50\n",
      "INFO:conda_smithy.configure_feedstock:\n",
      "INFO:conda_smithy.configure_feedstock:These changes need to be pushed to github!\n",
      "\n",
      "INFO:conda_smithy.configure_feedstock:Downloading conda-forge-pinning-2022.01.02.17.59.50\n",
      "INFO:conda_smithy.configure_feedstock:Extracting conda-forge-pinning to /tmp/tmpbq1982gz\n",
      "INFO:conda_smithy.configure_feedstock:r410.yaml is closed now. Removing\n",
      "Setting build platform. This is only useful when pretending to be on another platform, such as for rendering necessary dependencies on a non-native platform. I trust that you know what you're doing.\n",
      "WARNING:conda_build.config:Setting build platform. This is only useful when pretending to be on another platform, such as for rendering necessary dependencies on a non-native platform. I trust that you know what you're doing.\n",
      "Setting build arch. This is only useful when pretending to be on another arch, such as for rendering necessary dependencies on a non-native arch. I trust that you know what you're doing.\n",
      "WARNING:conda_build.config:Setting build arch. This is only useful when pretending to be on another arch, such as for rendering necessary dependencies on a non-native arch. I trust that you know what you're doing.\n",
      "No numpy version specified in conda_build_config.yaml.  Falling back to default numpy value of 1.16\n",
      "WARNING:conda_build.metadata:No numpy version specified in conda_build_config.yaml.  Falling back to default numpy value of 1.16\n",
      "INFO:conda_build.variants:Adding in variants from internal_defaults\n",
      "INFO:conda_build.variants:Adding in variants from /tmp/tmpbq1982gz/conda_build_config.yaml\n",
      "INFO:conda_build.variants:Adding in variants from argument_variants\n",
      "/home/jdblischak/miniconda3/lib/python3.9/site-packages/pkg_resources/__init__.py:116: PkgResourcesDeprecationWarning: 3.7.* *_cpython is an invalid version and will not be supported in a future release\n",
      "  warnings.warn(\n",
      "INFO:conda_smithy.configure_feedstock:Re-rendered with conda-build 3.21.7, conda-smithy 3.16.1, and conda-forge-pinning 2022.01.02.17.59.50\n",
      "INFO:conda_smithy.configure_feedstock:\n",
      "INFO:conda_smithy.configure_feedstock:These changes need to be pushed to github!\n",
      "\n",
      "INFO:conda_smithy.configure_feedstock:Downloading conda-forge-pinning-2022.01.02.17.59.50\n",
      "INFO:conda_smithy.configure_feedstock:Extracting conda-forge-pinning to /tmp/tmph2bspr0w\n",
      "INFO:conda_smithy.configure_feedstock:r410.yaml is closed now. Removing\n",
      "Setting build platform. This is only useful when pretending to be on another platform, such as for rendering necessary dependencies on a non-native platform. I trust that you know what you're doing.\n",
      "WARNING:conda_build.config:Setting build platform. This is only useful when pretending to be on another platform, such as for rendering necessary dependencies on a non-native platform. I trust that you know what you're doing.\n",
      "Setting build arch. This is only useful when pretending to be on another arch, such as for rendering necessary dependencies on a non-native arch. I trust that you know what you're doing.\n",
      "WARNING:conda_build.config:Setting build arch. This is only useful when pretending to be on another arch, such as for rendering necessary dependencies on a non-native arch. I trust that you know what you're doing.\n",
      "No numpy version specified in conda_build_config.yaml.  Falling back to default numpy value of 1.16\n",
      "WARNING:conda_build.metadata:No numpy version specified in conda_build_config.yaml.  Falling back to default numpy value of 1.16\n",
      "INFO:conda_build.variants:Adding in variants from internal_defaults\n",
      "INFO:conda_build.variants:Adding in variants from /tmp/tmph2bspr0w/conda_build_config.yaml\n",
      "INFO:conda_build.variants:Adding in variants from argument_variants\n",
      "/home/jdblischak/miniconda3/lib/python3.9/site-packages/pkg_resources/__init__.py:116: PkgResourcesDeprecationWarning: 3.9.* *_cpython is an invalid version and will not be supported in a future release\n",
      "  warnings.warn(\n",
      "INFO:conda_smithy.configure_feedstock:Re-rendered with conda-build 3.21.7, conda-smithy 3.16.1, and conda-forge-pinning 2022.01.02.17.59.50\n",
      "INFO:conda_smithy.configure_feedstock:\n",
      "INFO:conda_smithy.configure_feedstock:These changes need to be pushed to github!\n",
      "\n",
      "INFO:conda_smithy.configure_feedstock:Downloading conda-forge-pinning-2022.01.02.17.59.50\n",
      "INFO:conda_smithy.configure_feedstock:Extracting conda-forge-pinning to /tmp/tmpcn0j6_80\n",
      "INFO:conda_smithy.configure_feedstock:r410.yaml is closed now. Removing\n",
      "Setting build platform. This is only useful when pretending to be on another platform, such as for rendering necessary dependencies on a non-native platform. I trust that you know what you're doing.\n",
      "WARNING:conda_build.config:Setting build platform. This is only useful when pretending to be on another platform, such as for rendering necessary dependencies on a non-native platform. I trust that you know what you're doing.\n",
      "Setting build arch. This is only useful when pretending to be on another arch, such as for rendering necessary dependencies on a non-native arch. I trust that you know what you're doing.\n",
      "WARNING:conda_build.config:Setting build arch. This is only useful when pretending to be on another arch, such as for rendering necessary dependencies on a non-native arch. I trust that you know what you're doing.\n",
      "No numpy version specified in conda_build_config.yaml.  Falling back to default numpy value of 1.16\n",
      "WARNING:conda_build.metadata:No numpy version specified in conda_build_config.yaml.  Falling back to default numpy value of 1.16\n",
      "INFO:conda_build.variants:Adding in variants from internal_defaults\n",
      "INFO:conda_build.variants:Adding in variants from /tmp/tmpcn0j6_80/conda_build_config.yaml\n",
      "INFO:conda_build.variants:Adding in variants from argument_variants\n",
      "/home/jdblischak/miniconda3/lib/python3.9/site-packages/pkg_resources/__init__.py:116: PkgResourcesDeprecationWarning: 3.9.* *_cpython is an invalid version and will not be supported in a future release\n",
      "  warnings.warn(\n",
      "INFO:conda_smithy.configure_feedstock:Re-rendered with conda-build 3.21.7, conda-smithy 3.16.1, and conda-forge-pinning 2022.01.02.17.59.50\n",
      "INFO:conda_smithy.configure_feedstock:\n",
      "INFO:conda_smithy.configure_feedstock:These changes need to be pushed to github!\n",
      "\n",
      "INFO:conda_smithy.configure_feedstock:Downloading conda-forge-pinning-2022.01.02.17.59.50\n",
      "INFO:conda_smithy.configure_feedstock:Extracting conda-forge-pinning to /tmp/tmpewibbh9a\n",
      "INFO:conda_smithy.configure_feedstock:r410.yaml is closed now. Removing\n",
      "Setting build platform. This is only useful when pretending to be on another platform, such as for rendering necessary dependencies on a non-native platform. I trust that you know what you're doing.\n",
      "WARNING:conda_build.config:Setting build platform. This is only useful when pretending to be on another platform, such as for rendering necessary dependencies on a non-native platform. I trust that you know what you're doing.\n",
      "Setting build arch. This is only useful when pretending to be on another arch, such as for rendering necessary dependencies on a non-native arch. I trust that you know what you're doing.\n",
      "WARNING:conda_build.config:Setting build arch. This is only useful when pretending to be on another arch, such as for rendering necessary dependencies on a non-native arch. I trust that you know what you're doing.\n",
      "No numpy version specified in conda_build_config.yaml.  Falling back to default numpy value of 1.16\n",
      "WARNING:conda_build.metadata:No numpy version specified in conda_build_config.yaml.  Falling back to default numpy value of 1.16\n",
      "INFO:conda_build.variants:Adding in variants from internal_defaults\n",
      "INFO:conda_build.variants:Adding in variants from /tmp/tmpewibbh9a/conda_build_config.yaml\n",
      "INFO:conda_build.variants:Adding in variants from argument_variants\n",
      "/home/jdblischak/miniconda3/lib/python3.9/site-packages/pkg_resources/__init__.py:116: PkgResourcesDeprecationWarning: 3.9.* *_cpython is an invalid version and will not be supported in a future release\n",
      "  warnings.warn(\n",
      "INFO:conda_smithy.configure_feedstock:Re-rendered with conda-build 3.21.7, conda-smithy 3.16.1, and conda-forge-pinning 2022.01.02.17.59.50\n",
      "INFO:conda_smithy.configure_feedstock:\n",
      "INFO:conda_smithy.configure_feedstock:These changes need to be pushed to github!\n",
      "\n"
     ]
    }
   ],
   "source": [
    "%%bash -s {file_packages}\n",
    "\n",
    "# Rerender feedstock\n",
    "\n",
    "for pkg in `cat $1`\n",
    "do\n",
    "  echo $pkg\n",
    "  localdir=\"/tmp/${pkg}-feedstock\"\n",
    "  cd \"$localdir\"\n",
    "  conda-smithy rerender -c auto\n",
    "done"
   ]
  },
  {
   "cell_type": "code",
   "execution_count": 23,
   "metadata": {},
   "outputs": [
    {
     "name": "stdout",
     "output_type": "stream",
     "text": [
      "r-pack\n",
      "r-parmigene\n",
      "r-sparql\n",
      "r-prroc\n",
      "r-tcltk2\n"
     ]
    },
    {
     "name": "stderr",
     "output_type": "stream",
     "text": [
      "remote: \n",
      "remote: Create a pull request for 'update-recipe' on GitHub by visiting:        \n",
      "remote:      https://github.com/jdblischak/r-pack-feedstock/pull/new/update-recipe        \n",
      "remote: \n",
      "To github.com:jdblischak/r-pack-feedstock.git\n",
      " * [new branch]      update-recipe -> update-recipe\n",
      "remote: \n",
      "remote: Create a pull request for 'update-recipe' on GitHub by visiting:        \n",
      "remote:      https://github.com/jdblischak/r-parmigene-feedstock/pull/new/update-recipe        \n",
      "remote: \n",
      "To github.com:jdblischak/r-parmigene-feedstock.git\n",
      " * [new branch]      update-recipe -> update-recipe\n",
      "remote: \n",
      "remote: Create a pull request for 'update-recipe' on GitHub by visiting:        \n",
      "remote:      https://github.com/jdblischak/r-sparql-feedstock/pull/new/update-recipe        \n",
      "remote: \n",
      "To github.com:jdblischak/r-sparql-feedstock.git\n",
      " * [new branch]      update-recipe -> update-recipe\n",
      "remote: \n",
      "remote: Create a pull request for 'update-recipe' on GitHub by visiting:        \n",
      "remote:      https://github.com/jdblischak/r-prroc-feedstock/pull/new/update-recipe        \n",
      "remote: \n",
      "To github.com:jdblischak/r-prroc-feedstock.git\n",
      " * [new branch]      update-recipe -> update-recipe\n",
      "remote: \n",
      "remote: Create a pull request for 'update-recipe' on GitHub by visiting:        \n",
      "remote:      https://github.com/jdblischak/r-tcltk2-feedstock/pull/new/update-recipe        \n",
      "remote: \n",
      "To github.com:jdblischak/r-tcltk2-feedstock.git\n",
      " * [new branch]      update-recipe -> update-recipe\n"
     ]
    }
   ],
   "source": [
    "%%bash -s {file_packages}\n",
    "\n",
    "# Push to GitHub\n",
    "\n",
    "for pkg in `cat $1`\n",
    "do\n",
    "  echo $pkg\n",
    "  localdir=\"/tmp/${pkg}-feedstock\"\n",
    "  cd \"$localdir\"\n",
    "  git push -f origin update-recipe\n",
    "done"
   ]
  },
  {
   "cell_type": "code",
   "execution_count": 24,
   "metadata": {},
   "outputs": [
    {
     "name": "stdout",
     "output_type": "stream",
     "text": [
      "conda-forge/r-pack-feedstock\n",
      "conda-forge/r-parmigene-feedstock\n",
      "conda-forge/r-sparql-feedstock\n",
      "conda-forge/r-prroc-feedstock\n",
      "conda-forge/r-tcltk2-feedstock\n"
     ]
    }
   ],
   "source": [
    "# Open pull requests\n",
    "# https://pygithub.readthedocs.io/en/latest/github_objects/Repository.html?highlight=create_pull#github.Repository.Repository.create_pull\n",
    "# https://docs.github.com/en/rest/reference/pulls#create-a-pull-request\n",
    "# https://pygithub.readthedocs.io/en/latest/examples/PullRequest.html?highlight=create%20a%20pull%20request#create-a-new-pull-request\n",
    "feedstocks = list(dict_repo.keys())\n",
    "# feedstocks_completed = [\"conda-forge/\" + stock for stock in feedstocks]\n",
    "for repo in dict_repo.values():\n",
    "    # if repo.full_name in feedstocks_completed:\n",
    "    #     continue\n",
    "    print(repo.full_name)\n",
    "    body = \"\"\"Checklist\n",
    "* [x] Used a [personal fork of the feedstock to propose changes](https://conda-forge.org/docs/maintainer/updating_pkgs.html#forking-and-pull-requests)\n",
    "* [x] Bumped the build number (if the version is unchanged)\n",
    "* [ ] Reset the build number to `0` (if the version changed)\n",
    "* [x] [Re-rendered]( https://conda-forge.org/docs/maintainer/updating_pkgs.html#rerendering-feedstocks ) with the latest `conda-smithy` (Use the phrase <code>@<space/>conda-forge-admin, please rerender</code> in a comment in this PR for automated rerendering)\n",
    "* [x] Ensured the license file is being packaged.\n",
    "\n",
    "* I already rerendered locally\n",
    "\"\"\"\n",
    "    repo.create_pull(title=\"Update recipe\", body=body, base=\"master\", head=\"jdblischak:update-recipe\")\n",
    "    time.sleep(1)"
   ]
  }
 ],
 "metadata": {
  "interpreter": {
   "hash": "47fb2f7310899236b2b6320e7204680dc49e123bc1e46b16fc267d575d4617f8"
  },
  "kernelspec": {
   "display_name": "Python 3.7.12 64-bit ('base': conda)",
   "language": "python",
   "name": "python3"
  },
  "language_info": {
   "codemirror_mode": {
    "name": "ipython",
    "version": 3
   },
   "file_extension": ".py",
   "mimetype": "text/x-python",
   "name": "python",
   "nbconvert_exporter": "python",
   "pygments_lexer": "ipython3",
   "version": "3.9.0"
  },
  "orig_nbformat": 4
 },
 "nbformat": 4,
 "nbformat_minor": 2
}
