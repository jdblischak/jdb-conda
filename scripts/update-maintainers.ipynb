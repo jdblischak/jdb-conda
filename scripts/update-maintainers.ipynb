{
 "cells": [
  {
   "cell_type": "markdown",
   "metadata": {},
   "source": [
    "\n",
    "# Update maintainers\n",
    "\n",
    "Below are some ad-hoc code chunks to assist me in mass-updating the maintainers of the conda-forge R recipes"
   ]
  },
  {
   "cell_type": "code",
   "execution_count": 1,
   "metadata": {},
   "outputs": [],
   "source": [
    "import os\n",
    "import subprocess as sp\n",
    "import sys\n",
    "import time"
   ]
  },
  {
   "cell_type": "code",
   "execution_count": 2,
   "metadata": {},
   "outputs": [
    {
     "name": "stdout",
     "output_type": "stream",
     "text": [
      "Authenticated as jdblischak\n"
     ]
    }
   ],
   "source": [
    "# Authenticate with GitHub\n",
    "\n",
    "import github\n",
    "\n",
    "gh_token = os.environ['GH_TOKEN']\n",
    "gh = github.Github(gh_token)\n",
    "gh_me = gh.get_user()\n",
    "print(\"Authenticated as %s\"%(gh_me.login))"
   ]
  },
  {
   "cell_type": "code",
   "execution_count": 3,
   "metadata": {},
   "outputs": [
    {
     "data": {
      "text/plain": [
       "RateLimit(core=Rate(reset=2022-01-03 03:48:58, remaining=4201, limit=5000))"
      ]
     },
     "execution_count": 3,
     "metadata": {},
     "output_type": "execute_result"
    }
   ],
   "source": [
    "# Check rate limit\n",
    "gh.get_rate_limit()"
   ]
  },
  {
   "cell_type": "code",
   "execution_count": 4,
   "metadata": {},
   "outputs": [
    {
     "data": {
      "text/plain": [
       "30"
      ]
     },
     "execution_count": 4,
     "metadata": {},
     "output_type": "execute_result"
    }
   ],
   "source": [
    "# Search\n",
    "# https://pygithub.readthedocs.io/en/latest/github.html?highlight=search#github.MainClass.Github.search_code\n",
    "results = gh.search_code(query=\"org:conda-forge language:YAML jdblischak conda-forge/r\")\n",
    "results.totalCount"
   ]
  },
  {
   "cell_type": "code",
   "execution_count": 5,
   "metadata": {},
   "outputs": [],
   "source": [
    "# Repositories to keep\n",
    "skip = ['r-feedstock',\n",
    "        'r-base-feedstock',\n",
    "        'r-git2r-feedstock',\n",
    "        'r-knitr-feedstock',\n",
    "        'r-rmarkdown-feedstock',\n",
    "        'r-workflowr-feedstock',\n",
    "        'r-reshape-feedstock',\n",
    "        'r-lokern-feedstock',\n",
    "        'r-densityclust-feedstock',\n",
    "        'r-rtensor-feedstock']"
   ]
  },
  {
   "cell_type": "code",
   "execution_count": 6,
   "metadata": {},
   "outputs": [
    {
     "name": "stdout",
     "output_type": "stream",
     "text": [
      "24\n"
     ]
    }
   ],
   "source": [
    "# Convert search results to dict of repository objects\n",
    "dict_repo = {}\n",
    "limit = 55\n",
    "counter = 0\n",
    "for r in results:\n",
    "    repo = r.repository\n",
    "    name_repo = os.path.basename(repo.full_name)\n",
    "    if name_repo in skip:\n",
    "        continue\n",
    "    if name_repo[:2] != \"r-\":\n",
    "        continue\n",
    "    dict_repo[name_repo] = repo\n",
    "    counter += 1\n",
    "    if counter == limit:\n",
    "        break\n",
    "    time.sleep(0.1)\n",
    "print(len(dict_repo))"
   ]
  },
  {
   "cell_type": "code",
   "execution_count": 7,
   "metadata": {},
   "outputs": [
    {
     "name": "stdout",
     "output_type": "stream",
     "text": [
      "conda-forge/r-klar-feedstock\n",
      "conda-forge/r-pmcmr-feedstock\n",
      "conda-forge/r-fingerprint-feedstock\n",
      "conda-forge/r-timedate-feedstock\n",
      "conda-forge/r-uniqueatommat-feedstock\n",
      "conda-forge/r-oriclust-feedstock\n",
      "conda-forge/r-survivalroc-feedstock\n",
      "conda-forge/r-runit-feedstock\n",
      "conda-forge/r-anomalydetection-feedstock\n",
      "conda-forge/r-cooccur-feedstock\n",
      "conda-forge/r-bfa-feedstock\n",
      "conda-forge/r-downloader-feedstock\n",
      "conda-forge/r-pathological-feedstock\n",
      "conda-forge/r-maldiquant-feedstock\n",
      "conda-forge/r-hunspell-feedstock\n",
      "conda-forge/r-xnomial-feedstock\n",
      "conda-forge/r-conicfit-feedstock\n",
      "conda-forge/r-chemometricswithr-feedstock\n",
      "conda-forge/r-objectproperties-feedstock\n",
      "conda-forge/r-d3heatmap-feedstock\n",
      "conda-forge/r-ppls-feedstock\n",
      "conda-forge/r-rpostgresql-feedstock\n",
      "conda-forge/r-ggsignif-feedstock\n",
      "conda-forge/r-tensr-feedstock\n"
     ]
    }
   ],
   "source": [
    "# Fork repositories\n",
    "for repo in dict_repo.values():\n",
    "    print(repo.full_name)\n",
    "    gh_me.create_fork(repo)\n",
    "    time.sleep(0.5)"
   ]
  },
  {
   "cell_type": "code",
   "execution_count": 8,
   "metadata": {},
   "outputs": [
    {
     "name": "stdout",
     "output_type": "stream",
     "text": [
      "r-klar-feedstock\n",
      "r-pmcmr-feedstock\n",
      "r-fingerprint-feedstock\n",
      "r-timedate-feedstock\n",
      "r-uniqueatommat-feedstock\n",
      "r-oriclust-feedstock\n",
      "r-survivalroc-feedstock\n",
      "r-runit-feedstock\n",
      "r-anomalydetection-feedstock\n",
      "r-cooccur-feedstock\n",
      "r-bfa-feedstock\n",
      "r-downloader-feedstock\n",
      "r-pathological-feedstock\n",
      "r-maldiquant-feedstock\n",
      "r-hunspell-feedstock\n",
      "r-xnomial-feedstock\n",
      "r-conicfit-feedstock\n",
      "r-chemometricswithr-feedstock\n",
      "r-objectproperties-feedstock\n",
      "r-d3heatmap-feedstock\n",
      "r-ppls-feedstock\n",
      "r-rpostgresql-feedstock\n",
      "r-ggsignif-feedstock\n",
      "r-tensr-feedstock\n"
     ]
    }
   ],
   "source": [
    "# Clone repositories\n",
    "for feedstock in dict_repo.keys():\n",
    "    print(feedstock)\n",
    "    localdir=\"/tmp/%s\"%(feedstock)\n",
    "    remote = \"git@github.com:jdblischak/%s.git\"%(feedstock)\n",
    "    cmd = [\"git\", \"clone\", \"--quiet\", remote, localdir]\n",
    "    if not os.path.exists(localdir):\n",
    "        sp.run(cmd)"
   ]
  },
  {
   "cell_type": "code",
   "execution_count": 9,
   "metadata": {},
   "outputs": [],
   "source": [
    "conda_forge_r = {\n",
    "    \"johanneskoester\",\n",
    "    \"bgruening\",\n",
    "    \"daler\",\n",
    "    \"jdblischak\",\n",
    "    \"cbrueffer\",\n",
    "    \"dbast\",\n",
    "    \"dpryan79\"\n",
    "}"
   ]
  },
  {
   "cell_type": "code",
   "execution_count": 10,
   "metadata": {},
   "outputs": [
    {
     "name": "stdout",
     "output_type": "stream",
     "text": [
      "r-klar-feedstock\n",
      "r-pmcmr-feedstock\n",
      "r-fingerprint-feedstock\n",
      "r-timedate-feedstock\n",
      "r-uniqueatommat-feedstock\n",
      "r-oriclust-feedstock\n",
      "r-survivalroc-feedstock\n",
      "r-runit-feedstock\n",
      "r-anomalydetection-feedstock\n",
      "r-cooccur-feedstock\n",
      "r-bfa-feedstock\n",
      "r-downloader-feedstock\n",
      "r-pathological-feedstock\n",
      "r-maldiquant-feedstock\n",
      "r-hunspell-feedstock\n",
      "r-xnomial-feedstock\n",
      "r-conicfit-feedstock\n",
      "r-chemometricswithr-feedstock\n",
      "r-objectproperties-feedstock\n",
      "r-d3heatmap-feedstock\n",
      "r-ppls-feedstock\n",
      "r-rpostgresql-feedstock\n",
      "r-ggsignif-feedstock\n",
      "r-tensr-feedstock\n"
     ]
    }
   ],
   "source": [
    "# Update meta.yaml\n",
    "for feedstock in dict_repo.keys():\n",
    "    print(feedstock)\n",
    "    file_meta = \"/tmp/\" + feedstock + \"/recipe/meta.yaml\"\n",
    "\n",
    "    # read\n",
    "    handle_meta = open(file_meta, \"r\")\n",
    "    lines_meta = handle_meta.readlines()\n",
    "    handle_meta.close()\n",
    "\n",
    "    # write back non-filtered lines\n",
    "    handle_meta = open(file_meta, \"w\")\n",
    "    for line in lines_meta:\n",
    "        keep = True\n",
    "        for maintainer in conda_forge_r:\n",
    "            if \"- %s\"%(maintainer) in line.lower(): \n",
    "                keep = False\n",
    "        if keep:\n",
    "            handle_meta.write(line)\n",
    "\n",
    "    handle_meta.close()\n",
    "    "
   ]
  },
  {
   "cell_type": "code",
   "execution_count": 11,
   "metadata": {},
   "outputs": [
    {
     "name": "stdout",
     "output_type": "stream",
     "text": [
      "r-klar-feedstock\n",
      "r-pmcmr-feedstock\n",
      "r-fingerprint-feedstock\n",
      "r-timedate-feedstock\n",
      "r-uniqueatommat-feedstock\n",
      "r-oriclust-feedstock\n",
      "r-survivalroc-feedstock\n",
      "r-runit-feedstock\n",
      "r-anomalydetection-feedstock\n",
      "r-cooccur-feedstock\n",
      "r-bfa-feedstock\n",
      "r-downloader-feedstock\n",
      "r-pathological-feedstock\n",
      "r-maldiquant-feedstock\n",
      "r-hunspell-feedstock\n",
      "r-xnomial-feedstock\n",
      "r-conicfit-feedstock\n",
      "r-chemometricswithr-feedstock\n",
      "r-objectproperties-feedstock\n",
      "r-d3heatmap-feedstock\n",
      "r-ppls-feedstock\n",
      "r-rpostgresql-feedstock\n",
      "r-ggsignif-feedstock\n",
      "r-tensr-feedstock\n"
     ]
    }
   ],
   "source": [
    "# Update .github/CODEOWNERS\n",
    "for feedstock in dict_repo.keys():\n",
    "    print(feedstock)\n",
    "    file_owners = \"/tmp/\" + feedstock + \"/.github/CODEOWNERS\"\n",
    "\n",
    "    if not os.path.exists(file_owners):\n",
    "        continue\n",
    "\n",
    "    # read (it's a single line)\n",
    "    handle_owners = open(file_owners, \"r\")\n",
    "    line_owners = handle_owners.readline()\n",
    "    handle_owners.close()\n",
    "\n",
    "    for maintainer in conda_forge_r:\n",
    "        line_owners = line_owners.replace(\" @%s\"%(maintainer), \"\")\n",
    "        line_owners = line_owners.replace(\" @%s\"%(maintainer.capitalize()), \"\")\n",
    "\n",
    "    # write\n",
    "    handle_owners = open(file_owners, \"w\")\n",
    "    handle_owners.write(line_owners)\n",
    "    handle_owners.close()"
   ]
  },
  {
   "cell_type": "code",
   "execution_count": 12,
   "metadata": {},
   "outputs": [
    {
     "name": "stdout",
     "output_type": "stream",
     "text": [
      "r-klar-feedstock\n",
      "r-pmcmr-feedstock\n",
      "r-fingerprint-feedstock\n",
      "r-timedate-feedstock\n",
      "r-uniqueatommat-feedstock\n",
      "r-oriclust-feedstock\n",
      "r-survivalroc-feedstock\n",
      "r-runit-feedstock\n",
      "r-anomalydetection-feedstock\n",
      "r-cooccur-feedstock\n",
      "r-bfa-feedstock\n",
      "r-downloader-feedstock\n",
      "r-pathological-feedstock\n",
      "r-maldiquant-feedstock\n",
      "r-hunspell-feedstock\n",
      "r-xnomial-feedstock\n",
      "r-conicfit-feedstock\n",
      "r-chemometricswithr-feedstock\n",
      "r-objectproperties-feedstock\n",
      "r-d3heatmap-feedstock\n",
      "r-ppls-feedstock\n",
      "r-rpostgresql-feedstock\n",
      "r-ggsignif-feedstock\n",
      "r-tensr-feedstock\n"
     ]
    }
   ],
   "source": [
    "# Update README.md\n",
    "for feedstock in dict_repo.keys():\n",
    "    print(feedstock)\n",
    "    file_readme = \"/tmp/\" + feedstock + \"/README.md\"\n",
    "\n",
    "    # read\n",
    "    handle_readme = open(file_readme, \"r\")\n",
    "    lines_readme = handle_readme.readlines()\n",
    "    handle_readme.close()\n",
    "\n",
    "    # write back non-filtered lines\n",
    "    handle_readme = open(file_readme, \"w\")\n",
    "    for line in lines_readme:\n",
    "        keep = True\n",
    "        for maintainer in conda_forge_r:\n",
    "            if \"* [@%s](https://github.com/%s/)\"%(maintainer, maintainer) in line.lower(): \n",
    "                keep = False\n",
    "        if keep:\n",
    "            handle_readme.write(line)\n",
    "\n",
    "    handle_readme.close()"
   ]
  },
  {
   "cell_type": "code",
   "execution_count": 13,
   "metadata": {},
   "outputs": [
    {
     "name": "stdout",
     "output_type": "stream",
     "text": [
      "/tmp/r-anomalydetection-feedstock\n",
      "/tmp/r-bfa-feedstock\n",
      "/tmp/r-chemometricswithr-feedstock\n",
      "/tmp/r-conicfit-feedstock\n",
      "/tmp/r-cooccur-feedstock\n",
      "/tmp/r-d3heatmap-feedstock\n",
      "/tmp/r-downloader-feedstock\n",
      "/tmp/r-fingerprint-feedstock\n",
      "/tmp/r-ggsignif-feedstock\n",
      "/tmp/r-hunspell-feedstock\n",
      "/tmp/r-klar-feedstock\n",
      "/tmp/r-maldiquant-feedstock\n",
      "/tmp/r-objectproperties-feedstock\n",
      "/tmp/r-oriclust-feedstock\n",
      "/tmp/r-pathological-feedstock\n",
      "/tmp/r-pmcmr-feedstock\n",
      "/tmp/r-ppls-feedstock\n",
      "/tmp/r-rpostgresql-feedstock\n",
      "/tmp/r-runit-feedstock\n",
      "/tmp/r-survivalroc-feedstock\n",
      "/tmp/r-tensr-feedstock\n",
      "/tmp/r-timedate-feedstock\n",
      "/tmp/r-uniqueatommat-feedstock\n",
      "/tmp/r-xnomial-feedstock\n"
     ]
    }
   ],
   "source": [
    "%%bash\n",
    "\n",
    "# Commit updated recipes to branch \"update-maintainers\"\n",
    "\n",
    "for repo in /tmp/r-*-feedstock\n",
    "do\n",
    "  echo \"$repo\"\n",
    "  cd \"$repo\"\n",
    "  git checkout --quiet -b \"update-maintainers\"\n",
    "  git add .github/CODEOWNERS README.md recipe/meta.yaml\n",
    "  git commit --quiet -m \"[ci skip] [skip ci] ***NO_CI*** Update maintainers\"\n",
    "done"
   ]
  },
  {
   "cell_type": "code",
   "execution_count": 14,
   "metadata": {},
   "outputs": [
    {
     "name": "stdout",
     "output_type": "stream",
     "text": [
      "/tmp/r-anomalydetection-feedstock\n",
      "/tmp/r-bfa-feedstock\n",
      "/tmp/r-chemometricswithr-feedstock\n",
      "/tmp/r-conicfit-feedstock\n",
      "/tmp/r-cooccur-feedstock\n",
      "/tmp/r-d3heatmap-feedstock\n",
      "/tmp/r-downloader-feedstock\n",
      "/tmp/r-fingerprint-feedstock\n",
      "/tmp/r-ggsignif-feedstock\n",
      "/tmp/r-hunspell-feedstock\n",
      "/tmp/r-klar-feedstock\n",
      "/tmp/r-maldiquant-feedstock\n",
      "/tmp/r-objectproperties-feedstock\n",
      "/tmp/r-oriclust-feedstock\n",
      "/tmp/r-pathological-feedstock\n",
      "/tmp/r-pmcmr-feedstock\n",
      "/tmp/r-ppls-feedstock\n",
      "/tmp/r-rpostgresql-feedstock\n",
      "/tmp/r-runit-feedstock\n",
      "/tmp/r-survivalroc-feedstock\n",
      "/tmp/r-tensr-feedstock\n",
      "/tmp/r-timedate-feedstock\n",
      "/tmp/r-uniqueatommat-feedstock\n",
      "/tmp/r-xnomial-feedstock\n"
     ]
    },
    {
     "name": "stderr",
     "output_type": "stream",
     "text": [
      "remote: \n",
      "remote: Create a pull request for 'update-maintainers' on GitHub by visiting:        \n",
      "remote:      https://github.com/jdblischak/r-anomalydetection-feedstock/pull/new/update-maintainers        \n",
      "remote: \n",
      "remote: \n",
      "remote: Create a pull request for 'update-maintainers' on GitHub by visiting:        \n",
      "remote:      https://github.com/jdblischak/r-bfa-feedstock/pull/new/update-maintainers        \n",
      "remote: \n",
      "remote: \n",
      "remote: Create a pull request for 'update-maintainers' on GitHub by visiting:        \n",
      "remote:      https://github.com/jdblischak/r-chemometricswithr-feedstock/pull/new/update-maintainers        \n",
      "remote: \n",
      "remote: \n",
      "remote: Create a pull request for 'update-maintainers' on GitHub by visiting:        \n",
      "remote:      https://github.com/jdblischak/r-conicfit-feedstock/pull/new/update-maintainers        \n",
      "remote: \n",
      "remote: \n",
      "remote: Create a pull request for 'update-maintainers' on GitHub by visiting:        \n",
      "remote:      https://github.com/jdblischak/r-cooccur-feedstock/pull/new/update-maintainers        \n",
      "remote: \n",
      "remote: \n",
      "remote: Create a pull request for 'update-maintainers' on GitHub by visiting:        \n",
      "remote:      https://github.com/jdblischak/r-d3heatmap-feedstock/pull/new/update-maintainers        \n",
      "remote: \n",
      "remote: \n",
      "remote: Create a pull request for 'update-maintainers' on GitHub by visiting:        \n",
      "remote:      https://github.com/jdblischak/r-downloader-feedstock/pull/new/update-maintainers        \n",
      "remote: \n",
      "remote: \n",
      "remote: Create a pull request for 'update-maintainers' on GitHub by visiting:        \n",
      "remote:      https://github.com/jdblischak/r-fingerprint-feedstock/pull/new/update-maintainers        \n",
      "remote: \n",
      "remote: \n",
      "remote: Create a pull request for 'update-maintainers' on GitHub by visiting:        \n",
      "remote:      https://github.com/jdblischak/r-ggsignif-feedstock/pull/new/update-maintainers        \n",
      "remote: \n",
      "remote: \n",
      "remote: Create a pull request for 'update-maintainers' on GitHub by visiting:        \n",
      "remote:      https://github.com/jdblischak/r-hunspell-feedstock/pull/new/update-maintainers        \n",
      "remote: \n",
      "remote: \n",
      "remote: Create a pull request for 'update-maintainers' on GitHub by visiting:        \n",
      "remote:      https://github.com/jdblischak/r-klar-feedstock/pull/new/update-maintainers        \n",
      "remote: \n",
      "remote: \n",
      "remote: Create a pull request for 'update-maintainers' on GitHub by visiting:        \n",
      "remote:      https://github.com/jdblischak/r-maldiquant-feedstock/pull/new/update-maintainers        \n",
      "remote: \n",
      "remote: \n",
      "remote: Create a pull request for 'update-maintainers' on GitHub by visiting:        \n",
      "remote:      https://github.com/jdblischak/r-objectproperties-feedstock/pull/new/update-maintainers        \n",
      "remote: \n",
      "remote: \n",
      "remote: Create a pull request for 'update-maintainers' on GitHub by visiting:        \n",
      "remote:      https://github.com/jdblischak/r-oriclust-feedstock/pull/new/update-maintainers        \n",
      "remote: \n",
      "remote: \n",
      "remote: Create a pull request for 'update-maintainers' on GitHub by visiting:        \n",
      "remote:      https://github.com/jdblischak/r-pathological-feedstock/pull/new/update-maintainers        \n",
      "remote: \n",
      "remote: \n",
      "remote: Create a pull request for 'update-maintainers' on GitHub by visiting:        \n",
      "remote:      https://github.com/jdblischak/r-pmcmr-feedstock/pull/new/update-maintainers        \n",
      "remote: \n",
      "remote: \n",
      "remote: Create a pull request for 'update-maintainers' on GitHub by visiting:        \n",
      "remote:      https://github.com/jdblischak/r-ppls-feedstock/pull/new/update-maintainers        \n",
      "remote: \n",
      "remote: \n",
      "remote: Create a pull request for 'update-maintainers' on GitHub by visiting:        \n",
      "remote:      https://github.com/jdblischak/r-rpostgresql-feedstock/pull/new/update-maintainers        \n",
      "remote: \n",
      "remote: \n",
      "remote: Create a pull request for 'update-maintainers' on GitHub by visiting:        \n",
      "remote:      https://github.com/jdblischak/r-runit-feedstock/pull/new/update-maintainers        \n",
      "remote: \n",
      "remote: \n",
      "remote: Create a pull request for 'update-maintainers' on GitHub by visiting:        \n",
      "remote:      https://github.com/jdblischak/r-survivalroc-feedstock/pull/new/update-maintainers        \n",
      "remote: \n",
      "remote: \n",
      "remote: Create a pull request for 'update-maintainers' on GitHub by visiting:        \n",
      "remote:      https://github.com/jdblischak/r-tensr-feedstock/pull/new/update-maintainers        \n",
      "remote: \n",
      "remote: \n",
      "remote: Create a pull request for 'update-maintainers' on GitHub by visiting:        \n",
      "remote:      https://github.com/jdblischak/r-timedate-feedstock/pull/new/update-maintainers        \n",
      "remote: \n",
      "remote: \n",
      "remote: Create a pull request for 'update-maintainers' on GitHub by visiting:        \n",
      "remote:      https://github.com/jdblischak/r-uniqueatommat-feedstock/pull/new/update-maintainers        \n",
      "remote: \n",
      "remote: \n",
      "remote: Create a pull request for 'update-maintainers' on GitHub by visiting:        \n",
      "remote:      https://github.com/jdblischak/r-xnomial-feedstock/pull/new/update-maintainers        \n",
      "remote: \n"
     ]
    }
   ],
   "source": [
    "%%bash\n",
    "\n",
    "# Push to GitHub\n",
    "\n",
    "for repo in /tmp/r-*-feedstock\n",
    "do\n",
    "  echo \"$repo\"\n",
    "  cd \"$repo\"\n",
    "  git push --quiet origin update-maintainers\n",
    "done"
   ]
  },
  {
   "cell_type": "code",
   "execution_count": 32,
   "metadata": {},
   "outputs": [
    {
     "name": "stdout",
     "output_type": "stream",
     "text": [
      "conda-forge/r-ppls-feedstock\n",
      "conda-forge/r-rpostgresql-feedstock\n",
      "conda-forge/r-ggsignif-feedstock\n",
      "conda-forge/r-tensr-feedstock\n"
     ]
    }
   ],
   "source": [
    "# Open pull requests\n",
    "# https://pygithub.readthedocs.io/en/latest/github_objects/Repository.html?highlight=create_pull#github.Repository.Repository.create_pull\n",
    "# https://docs.github.com/en/rest/reference/pulls#create-a-pull-request\n",
    "# https://pygithub.readthedocs.io/en/latest/examples/PullRequest.html?highlight=create%20a%20pull%20request#create-a-new-pull-request\n",
    "\n",
    "body = \"\"\"\n",
    "Remove individually listed maintainers that are members of the conda-forge/r team\n",
    "\n",
    "Followed a similar strategy from the docs for updating the maintainers. Unfortunately it doesn't appear possible to skip the CI jobs in the PR itself, even the example PR had jobs run\n",
    "\n",
    "https://conda-forge.org/docs/maintainer/updating_pkgs.html#updating-the-maintainer-list\n",
    "\"\"\"\n",
    "\n",
    "feedstocks = list(dict_repo.keys())\n",
    "\n",
    "for feedstock in feedstocks[-4:]:\n",
    "    repo = dict_repo[feedstock]\n",
    "    print(repo.full_name)\n",
    "\n",
    "    pr = repo.create_pull(\n",
    "        title=\"[ci skip] [skip ci] ***NO_CI*** Update maintainers\",\n",
    "        body=body,\n",
    "        base=\"master\",\n",
    "        head=\"jdblischak:update-maintainers\"\n",
    "    )\n",
    "\n",
    "    time.sleep(10)\n",
    "\n",
    "    # Merge pull request\n",
    "    # https://pygithub.readthedocs.io/en/latest/github_objects/PullRequest.html#github.PullRequest.PullRequest.merge\n",
    "    # https://docs.github.com/en/rest/reference/pulls#merge-a-pull-request\n",
    "    pr.merge(\n",
    "      sha=pr.head.sha,\n",
    "      merge_method=\"squash\"\n",
    "    )\n",
    "\n",
    "    time.sleep(10)"
   ]
  }
 ],
 "metadata": {
  "interpreter": {
   "hash": "47fb2f7310899236b2b6320e7204680dc49e123bc1e46b16fc267d575d4617f8"
  },
  "kernelspec": {
   "display_name": "Python 3.7.12 64-bit ('base': conda)",
   "language": "python",
   "name": "python3"
  },
  "language_info": {
   "codemirror_mode": {
    "name": "ipython",
    "version": 3
   },
   "file_extension": ".py",
   "mimetype": "text/x-python",
   "name": "python",
   "nbconvert_exporter": "python",
   "pygments_lexer": "ipython3",
   "version": "3.9.0"
  },
  "orig_nbformat": 4
 },
 "nbformat": 4,
 "nbformat_minor": 2
}
