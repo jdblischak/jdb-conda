{
 "cells": [
  {
   "cell_type": "markdown",
   "metadata": {},
   "source": [
    "\n",
    "# Update maintainers\n",
    "\n",
    "Below are some ad-hoc code chunks to assist me in mass-updating the maintainers of the conda-forge R recipes"
   ]
  },
  {
   "cell_type": "code",
   "execution_count": 1,
   "metadata": {},
   "outputs": [],
   "source": [
    "import os\n",
    "import subprocess as sp\n",
    "import sys\n",
    "import time"
   ]
  },
  {
   "cell_type": "code",
   "execution_count": 2,
   "metadata": {},
   "outputs": [
    {
     "name": "stdout",
     "output_type": "stream",
     "text": [
      "Authenticated as jdblischak\n"
     ]
    }
   ],
   "source": [
    "# Authenticate with GitHub\n",
    "\n",
    "import github\n",
    "\n",
    "gh_token = os.environ['GH_TOKEN']\n",
    "gh = github.Github(gh_token)\n",
    "gh_me = gh.get_user()\n",
    "print(\"Authenticated as %s\"%(gh_me.login))"
   ]
  },
  {
   "cell_type": "code",
   "execution_count": 3,
   "metadata": {},
   "outputs": [
    {
     "data": {
      "text/plain": [
       "RateLimit(core=Rate(reset=2022-01-03 01:42:52, remaining=4772, limit=5000))"
      ]
     },
     "execution_count": 3,
     "metadata": {},
     "output_type": "execute_result"
    }
   ],
   "source": [
    "# Check rate limit\n",
    "gh.get_rate_limit()"
   ]
  },
  {
   "cell_type": "code",
   "execution_count": 4,
   "metadata": {},
   "outputs": [
    {
     "data": {
      "text/plain": [
       "148"
      ]
     },
     "execution_count": 4,
     "metadata": {},
     "output_type": "execute_result"
    }
   ],
   "source": [
    "# Search\n",
    "# https://pygithub.readthedocs.io/en/latest/github.html?highlight=search#github.MainClass.Github.search_code\n",
    "results = gh.search_code(query=\"org:conda-forge language:YAML jdblischak conda-forge/r\")\n",
    "results.totalCount"
   ]
  },
  {
   "cell_type": "code",
   "execution_count": 5,
   "metadata": {},
   "outputs": [],
   "source": [
    "# Repositories to keep\n",
    "skip = ['r-feedstock',\n",
    "        'r-base-feedstock',\n",
    "        'r-git2r-feedstock',\n",
    "        'r-knitr-feedstock',\n",
    "        'r-rmarkdown-feedstock',\n",
    "        'r-workflowr-feedstock',\n",
    "        'r-reshape-feedstock',\n",
    "        'r-lokern',\n",
    "        'r-densityclust',\n",
    "        'r-rtensor']"
   ]
  },
  {
   "cell_type": "code",
   "execution_count": 6,
   "metadata": {},
   "outputs": [
    {
     "name": "stdout",
     "output_type": "stream",
     "text": [
      "10\n"
     ]
    }
   ],
   "source": [
    "# Convert search results to dict of repository objects\n",
    "dict_repo = {}\n",
    "limit = 10\n",
    "counter = 0\n",
    "for r in results:\n",
    "    repo = r.repository\n",
    "    name_repo = os.path.basename(repo.full_name)\n",
    "    if name_repo in skip:\n",
    "        continue\n",
    "    if name_repo[:2] != \"r-\":\n",
    "        continue\n",
    "    dict_repo[name_repo] = repo\n",
    "    counter += 1\n",
    "    if counter == limit:\n",
    "        break\n",
    "    time.sleep(0.1)\n",
    "print(len(dict_repo))"
   ]
  },
  {
   "cell_type": "code",
   "execution_count": 7,
   "metadata": {},
   "outputs": [
    {
     "name": "stdout",
     "output_type": "stream",
     "text": [
      "conda-forge/r-matlab-feedstock\n",
      "conda-forge/r-qiimer-feedstock\n",
      "conda-forge/r-gapminder-feedstock\n",
      "conda-forge/r-nistunits-feedstock\n",
      "conda-forge/r-yaml-feedstock\n",
      "conda-forge/r-drc-feedstock\n",
      "conda-forge/r-tidyxl-feedstock\n",
      "conda-forge/r-longitudinal-feedstock\n",
      "conda-forge/r-hwriter-feedstock\n",
      "conda-forge/r-ggsci-feedstock\n"
     ]
    }
   ],
   "source": [
    "# Fork repositories\n",
    "for repo in dict_repo.values():\n",
    "    print(repo.full_name)\n",
    "    gh_me.create_fork(repo)\n",
    "    time.sleep(0.5)"
   ]
  },
  {
   "cell_type": "code",
   "execution_count": 8,
   "metadata": {},
   "outputs": [
    {
     "name": "stdout",
     "output_type": "stream",
     "text": [
      "r-matlab-feedstock\n",
      "r-qiimer-feedstock\n",
      "r-gapminder-feedstock\n",
      "r-nistunits-feedstock\n",
      "r-yaml-feedstock\n",
      "r-drc-feedstock\n",
      "r-tidyxl-feedstock\n",
      "r-longitudinal-feedstock\n",
      "r-hwriter-feedstock\n",
      "r-ggsci-feedstock\n"
     ]
    }
   ],
   "source": [
    "# Clone repositories\n",
    "for feedstock in dict_repo.keys():\n",
    "    print(feedstock)\n",
    "    localdir=\"/tmp/%s\"%(feedstock)\n",
    "    remote = \"git@github.com:jdblischak/%s.git\"%(feedstock)\n",
    "    cmd = [\"git\", \"clone\", \"--quiet\", remote, localdir]\n",
    "    if not os.path.exists(localdir):\n",
    "        sp.run(cmd)"
   ]
  },
  {
   "cell_type": "code",
   "execution_count": 9,
   "metadata": {},
   "outputs": [],
   "source": [
    "conda_forge_r = {\n",
    "    \"johanneskoester\",\n",
    "    \"bgruening\",\n",
    "    \"daler\",\n",
    "    \"jdblischak\",\n",
    "    \"cbrueffer\",\n",
    "    \"dbast\",\n",
    "    \"dpryan79\"\n",
    "}"
   ]
  },
  {
   "cell_type": "code",
   "execution_count": 10,
   "metadata": {},
   "outputs": [
    {
     "name": "stdout",
     "output_type": "stream",
     "text": [
      "r-matlab-feedstock\n",
      "r-qiimer-feedstock\n",
      "r-gapminder-feedstock\n",
      "r-nistunits-feedstock\n",
      "r-yaml-feedstock\n",
      "r-drc-feedstock\n",
      "r-tidyxl-feedstock\n",
      "r-longitudinal-feedstock\n",
      "r-hwriter-feedstock\n",
      "r-ggsci-feedstock\n"
     ]
    }
   ],
   "source": [
    "# Update meta.yaml\n",
    "for feedstock in dict_repo.keys():\n",
    "    print(feedstock)\n",
    "    file_meta = \"/tmp/\" + feedstock + \"/recipe/meta.yaml\"\n",
    "\n",
    "    # read\n",
    "    handle_meta = open(file_meta, \"r\")\n",
    "    lines_meta = handle_meta.readlines()\n",
    "    handle_meta.close()\n",
    "\n",
    "    # write back non-filtered lines\n",
    "    handle_meta = open(file_meta, \"w\")\n",
    "    for line in lines_meta:\n",
    "        keep = True\n",
    "        for maintainer in conda_forge_r:\n",
    "            if \"- %s\"%(maintainer) in line.lower(): \n",
    "                keep = False\n",
    "        if keep:\n",
    "            handle_meta.write(line)\n",
    "\n",
    "    handle_meta.close()\n",
    "    "
   ]
  },
  {
   "cell_type": "code",
   "execution_count": 11,
   "metadata": {},
   "outputs": [
    {
     "name": "stdout",
     "output_type": "stream",
     "text": [
      "r-matlab-feedstock\n",
      "r-qiimer-feedstock\n",
      "r-gapminder-feedstock\n",
      "r-nistunits-feedstock\n",
      "r-yaml-feedstock\n",
      "r-drc-feedstock\n",
      "r-tidyxl-feedstock\n",
      "r-longitudinal-feedstock\n",
      "r-hwriter-feedstock\n",
      "r-ggsci-feedstock\n"
     ]
    }
   ],
   "source": [
    "# Update .github/CODEOWNERS\n",
    "for feedstock in dict_repo.keys():\n",
    "    print(feedstock)\n",
    "    file_owners = \"/tmp/\" + feedstock + \"/.github/CODEOWNERS\"\n",
    "\n",
    "    if not os.path.exists(file_owners):\n",
    "        continue\n",
    "\n",
    "    # read (it's a single line)\n",
    "    handle_owners = open(file_owners, \"r\")\n",
    "    line_owners = handle_owners.readline()\n",
    "    handle_owners.close()\n",
    "\n",
    "    for maintainer in conda_forge_r:\n",
    "        line_owners = line_owners.replace(\" @%s\"%(maintainer), \"\")\n",
    "        line_owners = line_owners.replace(\" @%s\"%(maintainer.capitalize()), \"\")\n",
    "\n",
    "    # write\n",
    "    handle_owners = open(file_owners, \"w\")\n",
    "    handle_owners.write(line_owners)\n",
    "    handle_owners.close()"
   ]
  },
  {
   "cell_type": "code",
   "execution_count": 12,
   "metadata": {},
   "outputs": [
    {
     "name": "stdout",
     "output_type": "stream",
     "text": [
      "r-matlab-feedstock\n",
      "r-qiimer-feedstock\n",
      "r-gapminder-feedstock\n",
      "r-nistunits-feedstock\n",
      "r-yaml-feedstock\n",
      "r-drc-feedstock\n",
      "r-tidyxl-feedstock\n",
      "r-longitudinal-feedstock\n",
      "r-hwriter-feedstock\n",
      "r-ggsci-feedstock\n"
     ]
    }
   ],
   "source": [
    "# Update README.md\n",
    "for feedstock in dict_repo.keys():\n",
    "    print(feedstock)\n",
    "    file_readme = \"/tmp/\" + feedstock + \"/README.md\"\n",
    "\n",
    "    # read\n",
    "    handle_readme = open(file_readme, \"r\")\n",
    "    lines_readme = handle_readme.readlines()\n",
    "    handle_readme.close()\n",
    "\n",
    "    # write back non-filtered lines\n",
    "    handle_readme = open(file_readme, \"w\")\n",
    "    for line in lines_readme:\n",
    "        keep = True\n",
    "        for maintainer in conda_forge_r:\n",
    "            if \"* [@%s](https://github.com/%s/)\"%(maintainer, maintainer) in line.lower(): \n",
    "                keep = False\n",
    "        if keep:\n",
    "            handle_readme.write(line)\n",
    "\n",
    "    handle_readme.close()"
   ]
  },
  {
   "cell_type": "code",
   "execution_count": 13,
   "metadata": {},
   "outputs": [
    {
     "name": "stdout",
     "output_type": "stream",
     "text": [
      "/tmp/r-drc-feedstock\n",
      "[update-maintainers 0ebe74b] [ci skip] [skip ci] ***NO_CI*** Update maintainers\n",
      " 3 files changed, 1 insertion(+), 11 deletions(-)\n",
      "/tmp/r-gapminder-feedstock\n",
      "[update-maintainers 0664970] [ci skip] [skip ci] ***NO_CI*** Update maintainers\n",
      " 3 files changed, 1 insertion(+), 13 deletions(-)\n",
      "/tmp/r-ggsci-feedstock\n",
      "[update-maintainers a347822] [ci skip] [skip ci] ***NO_CI*** Update maintainers\n",
      " 3 files changed, 1 insertion(+), 13 deletions(-)\n",
      "/tmp/r-hwriter-feedstock\n",
      "[update-maintainers 8d1e387] [ci skip] [skip ci] ***NO_CI*** Update maintainers\n",
      " 3 files changed, 1 insertion(+), 13 deletions(-)\n",
      "/tmp/r-longitudinal-feedstock\n",
      "[update-maintainers 1130e63] [ci skip] [skip ci] ***NO_CI*** Update maintainers\n",
      " 3 files changed, 1 insertion(+), 13 deletions(-)\n",
      "/tmp/r-matlab-feedstock\n",
      "[update-maintainers 8971d73] [ci skip] [skip ci] ***NO_CI*** Update maintainers\n",
      " 3 files changed, 1 insertion(+), 13 deletions(-)\n",
      "/tmp/r-nistunits-feedstock\n",
      "[update-maintainers 88a9716] [ci skip] [skip ci] ***NO_CI*** Update maintainers\n",
      " 3 files changed, 1 insertion(+), 13 deletions(-)\n",
      "/tmp/r-qiimer-feedstock\n",
      "[update-maintainers d9d165d] [ci skip] [skip ci] ***NO_CI*** Update maintainers\n",
      " 3 files changed, 1 insertion(+), 13 deletions(-)\n",
      "/tmp/r-tidyxl-feedstock\n",
      "[update-maintainers 5c04dcd] [ci skip] [skip ci] ***NO_CI*** Update maintainers\n",
      " 3 files changed, 1 insertion(+), 13 deletions(-)\n",
      "/tmp/r-yaml-feedstock\n",
      "[update-maintainers 1021e90] [ci skip] [skip ci] ***NO_CI*** Update maintainers\n",
      " 3 files changed, 1 insertion(+), 11 deletions(-)\n"
     ]
    },
    {
     "name": "stderr",
     "output_type": "stream",
     "text": [
      "Switched to a new branch 'update-maintainers'\n",
      "Switched to a new branch 'update-maintainers'\n",
      "Switched to a new branch 'update-maintainers'\n",
      "Switched to a new branch 'update-maintainers'\n",
      "Switched to a new branch 'update-maintainers'\n",
      "Switched to a new branch 'update-maintainers'\n",
      "Switched to a new branch 'update-maintainers'\n",
      "Switched to a new branch 'update-maintainers'\n",
      "Switched to a new branch 'update-maintainers'\n",
      "Switched to a new branch 'update-maintainers'\n"
     ]
    }
   ],
   "source": [
    "%%bash\n",
    "\n",
    "# Commit updated recipes to branch \"update-maintainers\"\n",
    "\n",
    "for repo in /tmp/r-*-feedstock\n",
    "do\n",
    "  echo \"$repo\"\n",
    "  cd \"$repo\"\n",
    "  git checkout -b \"update-maintainers\"\n",
    "  git add .github/CODEOWNERS README.md recipe/meta.yaml\n",
    "  git commit -m \"[ci skip] [skip ci] ***NO_CI*** Update maintainers\"\n",
    "done"
   ]
  },
  {
   "cell_type": "code",
   "execution_count": 14,
   "metadata": {},
   "outputs": [
    {
     "name": "stdout",
     "output_type": "stream",
     "text": [
      "/tmp/r-drc-feedstock\n",
      "/tmp/r-gapminder-feedstock\n",
      "/tmp/r-ggsci-feedstock\n",
      "/tmp/r-hwriter-feedstock\n",
      "/tmp/r-longitudinal-feedstock\n",
      "/tmp/r-matlab-feedstock\n",
      "/tmp/r-nistunits-feedstock\n",
      "/tmp/r-qiimer-feedstock\n",
      "/tmp/r-tidyxl-feedstock\n",
      "/tmp/r-yaml-feedstock\n"
     ]
    },
    {
     "name": "stderr",
     "output_type": "stream",
     "text": [
      "remote: \n",
      "remote: Create a pull request for 'update-maintainers' on GitHub by visiting:        \n",
      "remote:      https://github.com/jdblischak/r-drc-feedstock/pull/new/update-maintainers        \n",
      "remote: \n",
      "To github.com:jdblischak/r-drc-feedstock.git\n",
      " * [new branch]      update-maintainers -> update-maintainers\n",
      "remote: \n",
      "remote: Create a pull request for 'update-maintainers' on GitHub by visiting:        \n",
      "remote:      https://github.com/jdblischak/r-gapminder-feedstock/pull/new/update-maintainers        \n",
      "remote: \n",
      "To github.com:jdblischak/r-gapminder-feedstock.git\n",
      " * [new branch]      update-maintainers -> update-maintainers\n",
      "remote: \n",
      "remote: Create a pull request for 'update-maintainers' on GitHub by visiting:        \n",
      "remote:      https://github.com/jdblischak/r-ggsci-feedstock/pull/new/update-maintainers        \n",
      "remote: \n",
      "To github.com:jdblischak/r-ggsci-feedstock.git\n",
      " * [new branch]      update-maintainers -> update-maintainers\n",
      "remote: \n",
      "remote: Create a pull request for 'update-maintainers' on GitHub by visiting:        \n",
      "remote:      https://github.com/jdblischak/r-hwriter-feedstock/pull/new/update-maintainers        \n",
      "remote: \n",
      "To github.com:jdblischak/r-hwriter-feedstock.git\n",
      " * [new branch]      update-maintainers -> update-maintainers\n",
      "remote: \n",
      "remote: Create a pull request for 'update-maintainers' on GitHub by visiting:        \n",
      "remote:      https://github.com/jdblischak/r-longitudinal-feedstock/pull/new/update-maintainers        \n",
      "remote: \n",
      "To github.com:jdblischak/r-longitudinal-feedstock.git\n",
      " * [new branch]      update-maintainers -> update-maintainers\n",
      "remote: \n",
      "remote: Create a pull request for 'update-maintainers' on GitHub by visiting:        \n",
      "remote:      https://github.com/jdblischak/r-matlab-feedstock/pull/new/update-maintainers        \n",
      "remote: \n",
      "To github.com:jdblischak/r-matlab-feedstock.git\n",
      " * [new branch]      update-maintainers -> update-maintainers\n",
      "remote: \n",
      "remote: Create a pull request for 'update-maintainers' on GitHub by visiting:        \n",
      "remote:      https://github.com/jdblischak/r-nistunits-feedstock/pull/new/update-maintainers        \n",
      "remote: \n",
      "To github.com:jdblischak/r-nistunits-feedstock.git\n",
      " * [new branch]      update-maintainers -> update-maintainers\n",
      "remote: \n",
      "remote: Create a pull request for 'update-maintainers' on GitHub by visiting:        \n",
      "remote:      https://github.com/jdblischak/r-qiimer-feedstock/pull/new/update-maintainers        \n",
      "remote: \n",
      "To github.com:jdblischak/r-qiimer-feedstock.git\n",
      " * [new branch]      update-maintainers -> update-maintainers\n",
      "remote: \n",
      "remote: Create a pull request for 'update-maintainers' on GitHub by visiting:        \n",
      "remote:      https://github.com/jdblischak/r-tidyxl-feedstock/pull/new/update-maintainers        \n",
      "remote: \n",
      "To github.com:jdblischak/r-tidyxl-feedstock.git\n",
      " * [new branch]      update-maintainers -> update-maintainers\n",
      "remote: \n",
      "remote: Create a pull request for 'update-maintainers' on GitHub by visiting:        \n",
      "remote:      https://github.com/jdblischak/r-yaml-feedstock/pull/new/update-maintainers        \n",
      "remote: \n",
      "To github.com:jdblischak/r-yaml-feedstock.git\n",
      " * [new branch]      update-maintainers -> update-maintainers\n"
     ]
    }
   ],
   "source": [
    "%%bash\n",
    "\n",
    "# Push to GitHub\n",
    "\n",
    "for repo in /tmp/r-*-feedstock\n",
    "do\n",
    "  echo \"$repo\"\n",
    "  cd \"$repo\"\n",
    "  git push origin update-maintainers\n",
    "done"
   ]
  },
  {
   "cell_type": "code",
   "execution_count": 15,
   "metadata": {},
   "outputs": [
    {
     "name": "stdout",
     "output_type": "stream",
     "text": [
      "conda-forge/r-matlab-feedstock\n",
      "conda-forge/r-qiimer-feedstock\n",
      "conda-forge/r-gapminder-feedstock\n",
      "conda-forge/r-nistunits-feedstock\n",
      "conda-forge/r-yaml-feedstock\n",
      "conda-forge/r-drc-feedstock\n",
      "conda-forge/r-tidyxl-feedstock\n",
      "conda-forge/r-longitudinal-feedstock\n",
      "conda-forge/r-hwriter-feedstock\n",
      "conda-forge/r-ggsci-feedstock\n"
     ]
    }
   ],
   "source": [
    "# Open pull requests\n",
    "# https://pygithub.readthedocs.io/en/latest/github_objects/Repository.html?highlight=create_pull#github.Repository.Repository.create_pull\n",
    "# https://docs.github.com/en/rest/reference/pulls#create-a-pull-request\n",
    "# https://pygithub.readthedocs.io/en/latest/examples/PullRequest.html?highlight=create%20a%20pull%20request#create-a-new-pull-request\n",
    "for repo in dict_repo.values():\n",
    "    print(repo.full_name)\n",
    "\n",
    "    repo.create_pull(\n",
    "        title=\"[ci skip] [skip ci] ***NO_CI*** Update maintainers\",\n",
    "        body=\"Remove individually listed maintainers that are members of the conda-forge/r team\",\n",
    "        base=\"master\",\n",
    "        head=\"jdblischak:update-maintainers\"\n",
    "    )\n",
    "\n",
    "    time.sleep(1)"
   ]
  }
 ],
 "metadata": {
  "interpreter": {
   "hash": "47fb2f7310899236b2b6320e7204680dc49e123bc1e46b16fc267d575d4617f8"
  },
  "kernelspec": {
   "display_name": "Python 3.7.12 64-bit ('base': conda)",
   "language": "python",
   "name": "python3"
  },
  "language_info": {
   "codemirror_mode": {
    "name": "ipython",
    "version": 3
   },
   "file_extension": ".py",
   "mimetype": "text/x-python",
   "name": "python",
   "nbconvert_exporter": "python",
   "pygments_lexer": "ipython3",
   "version": "3.9.0"
  },
  "orig_nbformat": 4
 },
 "nbformat": 4,
 "nbformat_minor": 2
}
